{
 "cells": [
  {
   "cell_type": "markdown",
   "id": "1639916f",
   "metadata": {},
   "source": [
    "### Multi-PDF Chat Agent with RAG (LangGraph + Google Gemini + Streamlit)"
   ]
  },
  {
   "cell_type": "markdown",
   "id": "d76a0596",
   "metadata": {},
   "source": [
    "#### Overview\n",
    "\n",
    "Build a Retrieval-Augmented Generation (RAG) chat agent using LangGraph:\n",
    "\n",
    "1. Accepts multiple PDFs\n",
    "\n",
    "2. Extracts and preprocesses text\n",
    "\n",
    "3. Embeds using Google Gemini embeddings\n",
    "\n",
    "4. Stores vectors in Chroma (local) or Qdrant (production)\n",
    "\n",
    "5. Uses LangGraph's graph-based agent orchestration to manage ingestion, retrieval, generation, and verification as separate nodes\n",
    "\n",
    "6. Streamlit interface for chat & inspection"
   ]
  },
  {
   "cell_type": "markdown",
   "id": "6c4f054b",
   "metadata": {},
   "source": [
    "#### Why LangGraph here?\n",
    "\n",
    "1. Modularity: Each step (ingestion, embedding, retrieval, LLM call, verification) is a node in the graph.\n",
    "\n",
    "2. Control Flow: Can define conditional edges (e.g., if verification fails, re-retrieve with higher k).\n",
    "\n",
    "3. Parallelism: Embedding multiple chunks in parallel.\n",
    "\n",
    "4. Resumability: Graph states can be serialized and resumed — useful in long ingestion pipelines."
   ]
  },
  {
   "cell_type": "markdown",
   "id": "1fcd7ba2",
   "metadata": {},
   "source": [
    "#### Graph Structure\n",
    "\n",
    "Nodes:\n",
    "\n",
    "1. IngestPDFs → loads & cleans documents\n",
    "\n",
    "2. ChunkDocs → splits into overlapping chunks\n",
    "\n",
    "3. EmbedDocs → generates embeddings, stores in vectorstore\n",
    "\n",
    "4. RetrieveDocs → retrieves relevant chunks for a query\n",
    "\n",
    "5. GenerateAnswer → LLM call with retrieved context\n",
    "\n",
    "6. VerifyAnswer → validates citations; may loop back to retrieval if invalid"
   ]
  },
  {
   "cell_type": "markdown",
   "id": "4b0e2401",
   "metadata": {},
   "source": [
    "#### Define the state"
   ]
  },
  {
   "cell_type": "code",
   "execution_count": 18,
   "id": "e1607283",
   "metadata": {},
   "outputs": [],
   "source": [
    "# state.py\n",
    "from typing import TypedDict, List\n",
    "from langchain.docstore.document import Document\n",
    "from langchain.vectorstores import Chroma\n",
    "\n",
    "class PDF_CHAT_STATE(TypedDict):\n",
    "    question: str # The question to be answered\n",
    "    pdf_paths: List[str]  # List of paths to the PDF files\n",
    "    chunks: List[Document] # List of document chunks created from the PDFs\n",
    "    vectordb: Chroma # Vector store for the PDF chunks\n",
    "    retrieved_docs: List[Document] \n"
   ]
  },
  {
   "cell_type": "markdown",
   "id": "8b17350d",
   "metadata": {},
   "source": [
    "Stores everything the LangGraph agents need: uploaded PDFs, chunks, vector DB, retrieved docs, user query, and LLM response."
   ]
  },
  {
   "cell_type": "markdown",
   "id": "2289bc19",
   "metadata": {},
   "source": [
    "#### Node: PDF ingestion + chunking"
   ]
  },
  {
   "cell_type": "code",
   "execution_count": 14,
   "id": "2036caff",
   "metadata": {},
   "outputs": [
    {
     "name": "stdout",
     "output_type": "stream",
     "text": [
      "QA agent is ready to use.\n"
     ]
    }
   ],
   "source": [
    "# nodes.py\n",
    "import tempfile\n",
    "from rag_pipeline_langchain.ingest import load_multiple_pdfs\n",
    "from rag_pipeline_langchain.utils import make_text_chunks\n",
    "from rag_pipeline_langchain.embeddings_store import create_or_load_vectorstore, make_embedder\n",
    "from rag_pipeline_langchain.qa_agent import make_qa_chain, run_qa\n",
    "#from state import PDFChatState\n",
    "\n",
    "\n",
    "# Node: PDF ingestion + chunking\n",
    "def ingest_pdfs_node(pdf_files, state: PDF_CHAT_STATE) -> PDF_CHAT_STATE:\n",
    "    paths = []\n",
    "    for f in pdf_files:\n",
    "        tf = tempfile.NamedTemporaryFile(delete=False, suffix=\".pdf\")\n",
    "        tf.write(f.read())\n",
    "        tf.flush()\n",
    "        paths.append(tf.name)\n",
    "    state['pdf_paths'] = paths\n",
    "\n",
    "    docs = load_multiple_pdfs(paths)\n",
    "    chunks = make_text_chunks(docs)\n",
    "    state['chunks'] = chunks\n",
    "    return state"
   ]
  },
  {
   "cell_type": "markdown",
   "id": "8818c4c3",
   "metadata": {},
   "source": [
    "#### Node: Vector DB creation / load"
   ]
  },
  {
   "cell_type": "code",
   "execution_count": 16,
   "id": "a42fcf5f",
   "metadata": {},
   "outputs": [],
   "source": [
    "# Node: Vector DB creation / load\n",
    "def init_vectordb_node(state: PDF_CHAT_STATE, persist_directory=\"./chroma_2_db\") -> PDF_CHAT_STATE:\n",
    "    if 'vectordb' not in state or state['vectordb'] is None:\n",
    "        embeddor = make_embedder()\n",
    "        vectordb = create_or_load_vectorstore(\n",
    "            docs=state['chunks'],\n",
    "            persist_directory=persist_directory,\n",
    "            embedding_model=embeddor\n",
    "        )\n",
    "        state['vectordb'] = vectordb\n",
    "    return state\n"
   ]
  },
  {
   "cell_type": "markdown",
   "id": "39d2b396",
   "metadata": {},
   "source": [
    "#### Node: QA with verification"
   ]
  },
  {
   "cell_type": "code",
   "execution_count": 17,
   "id": "994cf786",
   "metadata": {},
   "outputs": [],
   "source": [
    "# Node: QA with verification\n",
    "def qa_node(question, state: PDF_CHAT_STATE, top_k=5) -> PDF_CHAT_STATE:\n",
    "    state['question'] = question\n",
    "    qa_chain = make_qa_chain(state['vectordb'], top_k=top_k)\n",
    "    resp = run_qa(qa_chain, question)\n",
    "    state['llm_response'] = resp['result']\n",
    "    state['retrieved_docs'] = resp.get('source_documents', [])\n",
    "    return state"
   ]
  },
  {
   "cell_type": "markdown",
   "id": "08e051bb",
   "metadata": {},
   "source": [
    "#### Build LangGraph graph\n",
    "We create a StateGraph and connect edges between nodes."
   ]
  },
  {
   "cell_type": "code",
   "execution_count": 20,
   "id": "097d55d8",
   "metadata": {},
   "outputs": [
    {
     "data": {
      "text/plain": [
       "<langgraph.graph.state.StateGraph at 0x1195cf940>"
      ]
     },
     "execution_count": 20,
     "metadata": {},
     "output_type": "execute_result"
    }
   ],
   "source": [
    "# graph_runner.py\n",
    "from langgraph.graph import StateGraph,START,END\n",
    "#from state import PDFChatState\n",
    "#from nodes import ingest_pdfs_node, init_vectordb_node, qa_node\n",
    "\n",
    "# Initialize empty graph\n",
    "graph = StateGraph(PDF_CHAT_STATE)\n",
    "\n",
    "# Register nodes\n",
    "graph.add_node(\"ingest\", ingest_pdfs_node)\n",
    "graph.add_node(\"vector_db\", init_vectordb_node)\n",
    "graph.add_node(\"qa\", qa_node)\n",
    "\n",
    "# Connect edges (linear flow)\n",
    "graph.add_edge(START, \"ingest\")\n",
    "graph.add_edge(\"ingest\", \"vector_db\")\n",
    "graph.add_edge(\"vector_db\", \"qa\")\n",
    "graph.add_edge('qa', END)\n"
   ]
  },
  {
   "cell_type": "code",
   "execution_count": 21,
   "id": "b13cb6f7",
   "metadata": {},
   "outputs": [],
   "source": [
    "workflow = graph.compile()"
   ]
  },
  {
   "cell_type": "code",
   "execution_count": 22,
   "id": "f79d5ff4",
   "metadata": {},
   "outputs": [
    {
     "data": {
      "image/png": "[encoded data removed]",
      "text/plain": [
       "<langgraph.graph.state.CompiledStateGraph object at 0x11940fca0>"
      ]
     },
     "execution_count": 22,
     "metadata": {},
     "output_type": "execute_result"
    }
   ],
   "source": [
    "workflow"
   ]
  },
  {
   "cell_type": "code",
   "execution_count": 24,
   "id": "671af888",
   "metadata": {},
   "outputs": [],
   "source": [
    "intial_state = {\n",
    "    \"question\":\"give me a summary of the PDF\"\n",
    "}"
   ]
  },
  {
   "cell_type": "code",
   "execution_count": 25,
   "id": "898f946e",
   "metadata": {},
   "outputs": [
    {
     "ename": "TypeError",
     "evalue": "ingest_pdfs_node() missing 1 required positional argument: 'state'",
     "output_type": "error",
     "traceback": [
      "\u001b[0;31m---------------------------------------------------------------------------\u001b[0m",
      "\u001b[0;31mTypeError\u001b[0m                                 Traceback (most recent call last)",
      "Cell \u001b[0;32mIn[25], line 1\u001b[0m\n\u001b[0;32m----> 1\u001b[0m \u001b[43mworkflow\u001b[49m\u001b[38;5;241;43m.\u001b[39;49m\u001b[43minvoke\u001b[49m\u001b[43m(\u001b[49m\u001b[43mintial_state\u001b[49m\u001b[43m)\u001b[49m\n",
      "File \u001b[0;32m~/Documents/Learnings_2024/Multi_PDF_Chat_Agent_with_RAG_Project/pdf_chat_agent_env/lib/python3.10/site-packages/langgraph/pregel/main.py:3026\u001b[0m, in \u001b[0;36mPregel.invoke\u001b[0;34m(self, input, config, context, stream_mode, print_mode, output_keys, interrupt_before, interrupt_after, durability, **kwargs)\u001b[0m\n\u001b[1;32m   3023\u001b[0m chunks: \u001b[38;5;28mlist\u001b[39m[\u001b[38;5;28mdict\u001b[39m[\u001b[38;5;28mstr\u001b[39m, Any] \u001b[38;5;241m|\u001b[39m Any] \u001b[38;5;241m=\u001b[39m []\n\u001b[1;32m   3024\u001b[0m interrupts: \u001b[38;5;28mlist\u001b[39m[Interrupt] \u001b[38;5;241m=\u001b[39m []\n\u001b[0;32m-> 3026\u001b[0m \u001b[38;5;28;01mfor\u001b[39;00m chunk \u001b[38;5;129;01min\u001b[39;00m \u001b[38;5;28mself\u001b[39m\u001b[38;5;241m.\u001b[39mstream(\n\u001b[1;32m   3027\u001b[0m     \u001b[38;5;28minput\u001b[39m,\n\u001b[1;32m   3028\u001b[0m     config,\n\u001b[1;32m   3029\u001b[0m     context\u001b[38;5;241m=\u001b[39mcontext,\n\u001b[1;32m   3030\u001b[0m     stream_mode\u001b[38;5;241m=\u001b[39m[\u001b[38;5;124m\"\u001b[39m\u001b[38;5;124mupdates\u001b[39m\u001b[38;5;124m\"\u001b[39m, \u001b[38;5;124m\"\u001b[39m\u001b[38;5;124mvalues\u001b[39m\u001b[38;5;124m\"\u001b[39m]\n\u001b[1;32m   3031\u001b[0m     \u001b[38;5;28;01mif\u001b[39;00m stream_mode \u001b[38;5;241m==\u001b[39m \u001b[38;5;124m\"\u001b[39m\u001b[38;5;124mvalues\u001b[39m\u001b[38;5;124m\"\u001b[39m\n\u001b[1;32m   3032\u001b[0m     \u001b[38;5;28;01melse\u001b[39;00m stream_mode,\n\u001b[1;32m   3033\u001b[0m     print_mode\u001b[38;5;241m=\u001b[39mprint_mode,\n\u001b[1;32m   3034\u001b[0m     output_keys\u001b[38;5;241m=\u001b[39moutput_keys,\n\u001b[1;32m   3035\u001b[0m     interrupt_before\u001b[38;5;241m=\u001b[39minterrupt_before,\n\u001b[1;32m   3036\u001b[0m     interrupt_after\u001b[38;5;241m=\u001b[39minterrupt_after,\n\u001b[1;32m   3037\u001b[0m     durability\u001b[38;5;241m=\u001b[39mdurability,\n\u001b[1;32m   3038\u001b[0m     \u001b[38;5;241m*\u001b[39m\u001b[38;5;241m*\u001b[39mkwargs,\n\u001b[1;32m   3039\u001b[0m ):\n\u001b[1;32m   3040\u001b[0m     \u001b[38;5;28;01mif\u001b[39;00m stream_mode \u001b[38;5;241m==\u001b[39m \u001b[38;5;124m\"\u001b[39m\u001b[38;5;124mvalues\u001b[39m\u001b[38;5;124m\"\u001b[39m:\n\u001b[1;32m   3041\u001b[0m         \u001b[38;5;28;01mif\u001b[39;00m \u001b[38;5;28mlen\u001b[39m(chunk) \u001b[38;5;241m==\u001b[39m \u001b[38;5;241m2\u001b[39m:\n",
      "File \u001b[0;32m~/Documents/Learnings_2024/Multi_PDF_Chat_Agent_with_RAG_Project/pdf_chat_agent_env/lib/python3.10/site-packages/langgraph/pregel/main.py:2647\u001b[0m, in \u001b[0;36mPregel.stream\u001b[0;34m(self, input, config, context, stream_mode, print_mode, output_keys, interrupt_before, interrupt_after, durability, subgraphs, debug, **kwargs)\u001b[0m\n\u001b[1;32m   2645\u001b[0m \u001b[38;5;28;01mfor\u001b[39;00m task \u001b[38;5;129;01min\u001b[39;00m loop\u001b[38;5;241m.\u001b[39mmatch_cached_writes():\n\u001b[1;32m   2646\u001b[0m     loop\u001b[38;5;241m.\u001b[39moutput_writes(task\u001b[38;5;241m.\u001b[39mid, task\u001b[38;5;241m.\u001b[39mwrites, cached\u001b[38;5;241m=\u001b[39m\u001b[38;5;28;01mTrue\u001b[39;00m)\n\u001b[0;32m-> 2647\u001b[0m \u001b[38;5;28;01mfor\u001b[39;00m _ \u001b[38;5;129;01min\u001b[39;00m runner\u001b[38;5;241m.\u001b[39mtick(\n\u001b[1;32m   2648\u001b[0m     [t \u001b[38;5;28;01mfor\u001b[39;00m t \u001b[38;5;129;01min\u001b[39;00m loop\u001b[38;5;241m.\u001b[39mtasks\u001b[38;5;241m.\u001b[39mvalues() \u001b[38;5;28;01mif\u001b[39;00m \u001b[38;5;129;01mnot\u001b[39;00m t\u001b[38;5;241m.\u001b[39mwrites],\n\u001b[1;32m   2649\u001b[0m     timeout\u001b[38;5;241m=\u001b[39m\u001b[38;5;28mself\u001b[39m\u001b[38;5;241m.\u001b[39mstep_timeout,\n\u001b[1;32m   2650\u001b[0m     get_waiter\u001b[38;5;241m=\u001b[39mget_waiter,\n\u001b[1;32m   2651\u001b[0m     schedule_task\u001b[38;5;241m=\u001b[39mloop\u001b[38;5;241m.\u001b[39maccept_push,\n\u001b[1;32m   2652\u001b[0m ):\n\u001b[1;32m   2653\u001b[0m     \u001b[38;5;66;03m# emit output\u001b[39;00m\n\u001b[1;32m   2654\u001b[0m     \u001b[38;5;28;01myield from\u001b[39;00m _output(\n\u001b[1;32m   2655\u001b[0m         stream_mode, print_mode, subgraphs, stream\u001b[38;5;241m.\u001b[39mget, queue\u001b[38;5;241m.\u001b[39mEmpty\n\u001b[1;32m   2656\u001b[0m     )\n\u001b[1;32m   2657\u001b[0m loop\u001b[38;5;241m.\u001b[39mafter_tick()\n",
      "File \u001b[0;32m~/Documents/Learnings_2024/Multi_PDF_Chat_Agent_with_RAG_Project/pdf_chat_agent_env/lib/python3.10/site-packages/langgraph/pregel/_runner.py:162\u001b[0m, in \u001b[0;36mPregelRunner.tick\u001b[0;34m(self, tasks, reraise, timeout, retry_policy, get_waiter, schedule_task)\u001b[0m\n\u001b[1;32m    160\u001b[0m t \u001b[38;5;241m=\u001b[39m tasks[\u001b[38;5;241m0\u001b[39m]\n\u001b[1;32m    161\u001b[0m \u001b[38;5;28;01mtry\u001b[39;00m:\n\u001b[0;32m--> 162\u001b[0m     \u001b[43mrun_with_retry\u001b[49m\u001b[43m(\u001b[49m\n\u001b[1;32m    163\u001b[0m \u001b[43m        \u001b[49m\u001b[43mt\u001b[49m\u001b[43m,\u001b[49m\n\u001b[1;32m    164\u001b[0m \u001b[43m        \u001b[49m\u001b[43mretry_policy\u001b[49m\u001b[43m,\u001b[49m\n\u001b[1;32m    165\u001b[0m \u001b[43m        \u001b[49m\u001b[43mconfigurable\u001b[49m\u001b[38;5;241;43m=\u001b[39;49m\u001b[43m{\u001b[49m\n\u001b[1;32m    166\u001b[0m \u001b[43m            \u001b[49m\u001b[43mCONFIG_KEY_CALL\u001b[49m\u001b[43m:\u001b[49m\u001b[43m \u001b[49m\u001b[43mpartial\u001b[49m\u001b[43m(\u001b[49m\n\u001b[1;32m    167\u001b[0m \u001b[43m                \u001b[49m\u001b[43m_call\u001b[49m\u001b[43m,\u001b[49m\n\u001b[1;32m    168\u001b[0m \u001b[43m                \u001b[49m\u001b[43mweakref\u001b[49m\u001b[38;5;241;43m.\u001b[39;49m\u001b[43mref\u001b[49m\u001b[43m(\u001b[49m\u001b[43mt\u001b[49m\u001b[43m)\u001b[49m\u001b[43m,\u001b[49m\n\u001b[1;32m    169\u001b[0m \u001b[43m                \u001b[49m\u001b[43mretry_policy\u001b[49m\u001b[38;5;241;43m=\u001b[39;49m\u001b[43mretry_policy\u001b[49m\u001b[43m,\u001b[49m\n\u001b[1;32m    170\u001b[0m \u001b[43m                \u001b[49m\u001b[43mfutures\u001b[49m\u001b[38;5;241;43m=\u001b[39;49m\u001b[43mweakref\u001b[49m\u001b[38;5;241;43m.\u001b[39;49m\u001b[43mref\u001b[49m\u001b[43m(\u001b[49m\u001b[43mfutures\u001b[49m\u001b[43m)\u001b[49m\u001b[43m,\u001b[49m\n\u001b[1;32m    171\u001b[0m \u001b[43m                \u001b[49m\u001b[43mschedule_task\u001b[49m\u001b[38;5;241;43m=\u001b[39;49m\u001b[43mschedule_task\u001b[49m\u001b[43m,\u001b[49m\n\u001b[1;32m    172\u001b[0m \u001b[43m                \u001b[49m\u001b[43msubmit\u001b[49m\u001b[38;5;241;43m=\u001b[39;49m\u001b[38;5;28;43mself\u001b[39;49m\u001b[38;5;241;43m.\u001b[39;49m\u001b[43msubmit\u001b[49m\u001b[43m,\u001b[49m\n\u001b[1;32m    173\u001b[0m \u001b[43m            \u001b[49m\u001b[43m)\u001b[49m\u001b[43m,\u001b[49m\n\u001b[1;32m    174\u001b[0m \u001b[43m        \u001b[49m\u001b[43m}\u001b[49m\u001b[43m,\u001b[49m\n\u001b[1;32m    175\u001b[0m \u001b[43m    \u001b[49m\u001b[43m)\u001b[49m\n\u001b[1;32m    176\u001b[0m     \u001b[38;5;28mself\u001b[39m\u001b[38;5;241m.\u001b[39mcommit(t, \u001b[38;5;28;01mNone\u001b[39;00m)\n\u001b[1;32m    177\u001b[0m \u001b[38;5;28;01mexcept\u001b[39;00m \u001b[38;5;167;01mException\u001b[39;00m \u001b[38;5;28;01mas\u001b[39;00m exc:\n",
      "File \u001b[0;32m~/Documents/Learnings_2024/Multi_PDF_Chat_Agent_with_RAG_Project/pdf_chat_agent_env/lib/python3.10/site-packages/langgraph/pregel/_retry.py:42\u001b[0m, in \u001b[0;36mrun_with_retry\u001b[0;34m(task, retry_policy, configurable)\u001b[0m\n\u001b[1;32m     40\u001b[0m     task\u001b[38;5;241m.\u001b[39mwrites\u001b[38;5;241m.\u001b[39mclear()\n\u001b[1;32m     41\u001b[0m     \u001b[38;5;66;03m# run the task\u001b[39;00m\n\u001b[0;32m---> 42\u001b[0m     \u001b[38;5;28;01mreturn\u001b[39;00m \u001b[43mtask\u001b[49m\u001b[38;5;241;43m.\u001b[39;49m\u001b[43mproc\u001b[49m\u001b[38;5;241;43m.\u001b[39;49m\u001b[43minvoke\u001b[49m\u001b[43m(\u001b[49m\u001b[43mtask\u001b[49m\u001b[38;5;241;43m.\u001b[39;49m\u001b[43minput\u001b[49m\u001b[43m,\u001b[49m\u001b[43m \u001b[49m\u001b[43mconfig\u001b[49m\u001b[43m)\u001b[49m\n\u001b[1;32m     43\u001b[0m \u001b[38;5;28;01mexcept\u001b[39;00m ParentCommand \u001b[38;5;28;01mas\u001b[39;00m exc:\n\u001b[1;32m     44\u001b[0m     ns: \u001b[38;5;28mstr\u001b[39m \u001b[38;5;241m=\u001b[39m config[CONF][CONFIG_KEY_CHECKPOINT_NS]\n",
      "File \u001b[0;32m~/Documents/Learnings_2024/Multi_PDF_Chat_Agent_with_RAG_Project/pdf_chat_agent_env/lib/python3.10/site-packages/langgraph/_internal/_runnable.py:657\u001b[0m, in \u001b[0;36mRunnableSeq.invoke\u001b[0;34m(self, input, config, **kwargs)\u001b[0m\n\u001b[1;32m    655\u001b[0m     \u001b[38;5;66;03m# run in context\u001b[39;00m\n\u001b[1;32m    656\u001b[0m     \u001b[38;5;28;01mwith\u001b[39;00m set_config_context(config, run) \u001b[38;5;28;01mas\u001b[39;00m context:\n\u001b[0;32m--> 657\u001b[0m         \u001b[38;5;28minput\u001b[39m \u001b[38;5;241m=\u001b[39m \u001b[43mcontext\u001b[49m\u001b[38;5;241;43m.\u001b[39;49m\u001b[43mrun\u001b[49m\u001b[43m(\u001b[49m\u001b[43mstep\u001b[49m\u001b[38;5;241;43m.\u001b[39;49m\u001b[43minvoke\u001b[49m\u001b[43m,\u001b[49m\u001b[43m \u001b[49m\u001b[38;5;28;43minput\u001b[39;49m\u001b[43m,\u001b[49m\u001b[43m \u001b[49m\u001b[43mconfig\u001b[49m\u001b[43m,\u001b[49m\u001b[43m \u001b[49m\u001b[38;5;241;43m*\u001b[39;49m\u001b[38;5;241;43m*\u001b[39;49m\u001b[43mkwargs\u001b[49m\u001b[43m)\u001b[49m\n\u001b[1;32m    658\u001b[0m \u001b[38;5;28;01melse\u001b[39;00m:\n\u001b[1;32m    659\u001b[0m     \u001b[38;5;28minput\u001b[39m \u001b[38;5;241m=\u001b[39m step\u001b[38;5;241m.\u001b[39minvoke(\u001b[38;5;28minput\u001b[39m, config)\n",
      "File \u001b[0;32m~/Documents/Learnings_2024/Multi_PDF_Chat_Agent_with_RAG_Project/pdf_chat_agent_env/lib/python3.10/site-packages/langgraph/_internal/_runnable.py:401\u001b[0m, in \u001b[0;36mRunnableCallable.invoke\u001b[0;34m(self, input, config, **kwargs)\u001b[0m\n\u001b[1;32m    399\u001b[0m         run_manager\u001b[38;5;241m.\u001b[39mon_chain_end(ret)\n\u001b[1;32m    400\u001b[0m \u001b[38;5;28;01melse\u001b[39;00m:\n\u001b[0;32m--> 401\u001b[0m     ret \u001b[38;5;241m=\u001b[39m \u001b[38;5;28;43mself\u001b[39;49m\u001b[38;5;241;43m.\u001b[39;49m\u001b[43mfunc\u001b[49m\u001b[43m(\u001b[49m\u001b[38;5;241;43m*\u001b[39;49m\u001b[43margs\u001b[49m\u001b[43m,\u001b[49m\u001b[43m \u001b[49m\u001b[38;5;241;43m*\u001b[39;49m\u001b[38;5;241;43m*\u001b[39;49m\u001b[43mkwargs\u001b[49m\u001b[43m)\u001b[49m\n\u001b[1;32m    402\u001b[0m \u001b[38;5;28;01mif\u001b[39;00m \u001b[38;5;28mself\u001b[39m\u001b[38;5;241m.\u001b[39mrecurse \u001b[38;5;129;01mand\u001b[39;00m \u001b[38;5;28misinstance\u001b[39m(ret, Runnable):\n\u001b[1;32m    403\u001b[0m     \u001b[38;5;28;01mreturn\u001b[39;00m ret\u001b[38;5;241m.\u001b[39minvoke(\u001b[38;5;28minput\u001b[39m, config)\n",
      "\u001b[0;31mTypeError\u001b[0m: ingest_pdfs_node() missing 1 required positional argument: 'state'"
     ]
    }
   ],
   "source": [
    "workflow.invoke(intial_state)"
   ]
  },
  {
   "cell_type": "code",
   "execution_count": null,
   "id": "9528b3ce",
   "metadata": {},
   "outputs": [],
   "source": []
  }
 ],
 "metadata": {
  "kernelspec": {
   "display_name": "pdf_chat_agent_env",
   "language": "python",
   "name": "python3"
  },
  "language_info": {
   "codemirror_mode": {
    "name": "ipython",
    "version": 3
   },
   "file_extension": ".py",
   "mimetype": "text/x-python",
   "name": "python",
   "nbconvert_exporter": "python",
   "pygments_lexer": "ipython3",
   "version": "3.10.9"
  }
 },
 "nbformat": 4,
 "nbformat_minor": 5
}
